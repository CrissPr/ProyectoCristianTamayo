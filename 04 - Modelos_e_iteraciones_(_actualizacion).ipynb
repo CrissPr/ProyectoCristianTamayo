{
  "nbformat": 4,
  "nbformat_minor": 0,
  "metadata": {
    "colab": {
      "provenance": []
    },
    "kernelspec": {
      "name": "python3",
      "display_name": "Python 3"
    },
    "language_info": {
      "name": "python"
    }
  },
  "cells": [
    {
      "cell_type": "markdown",
      "metadata": {
        "id": "69a610c5"
      },
      "source": [
        "<a href=\"https://colab.research.google.com/drive/19LZrxh7qobjTDCWte9WHWzKQUvp0MmaN?usp=sharing\" target=\"_parent\"><img src=\"https://colab.research.google.com/assets/colab-badge.svg\" alt=\"Open in Colab\"/></a>"
      ]
    },
    {
      "cell_type": "code",
      "source": [
        "!pip install -q kaggle"
      ],
      "metadata": {
        "id": "pfTvrFmNoDdM"
      },
      "execution_count": null,
      "outputs": []
    },
    {
      "cell_type": "markdown",
      "source": [
        "En el siguiente paso debe subir un token descargado de su perfil de kaggle,  un kaggle.json"
      ],
      "metadata": {
        "id": "ln1r60UYk5xk"
      }
    },
    {
      "cell_type": "code",
      "source": [
        "from google.colab import files\n",
        "files.upload()"
      ],
      "metadata": {
        "id": "UFhPKJP3l5mU"
      },
      "execution_count": null,
      "outputs": []
    },
    {
      "cell_type": "code",
      "source": [
        "! mkdir ~/.kaggle"
      ],
      "metadata": {
        "id": "AUFqlsEXoIy0"
      },
      "execution_count": null,
      "outputs": []
    },
    {
      "cell_type": "code",
      "source": [
        "! cp kaggle.json ~/.kaggle/"
      ],
      "metadata": {
        "id": "sxz2DdxrfHfG"
      },
      "execution_count": null,
      "outputs": []
    },
    {
      "cell_type": "code",
      "source": [
        "! chmod 600 ~/.kaggle/kaggle.json"
      ],
      "metadata": {
        "id": "UXXw8JOofXoo"
      },
      "execution_count": null,
      "outputs": []
    },
    {
      "cell_type": "code",
      "source": [
        "! kaggle datasets list"
      ],
      "metadata": {
        "id": "b_1VzHN-flT2"
      },
      "execution_count": null,
      "outputs": []
    },
    {
      "cell_type": "code",
      "source": [
        "!kaggle competitions download -c house-prices-advanced-regression-techniques"
      ],
      "metadata": {
        "id": "oKCsXKKDgkOo"
      },
      "execution_count": null,
      "outputs": []
    },
    {
      "cell_type": "code",
      "source": [
        "! unzip house-prices-advanced-regression-techniques.zip"
      ],
      "metadata": {
        "id": "UEGzlCWShOmY"
      },
      "execution_count": null,
      "outputs": []
    },
    {
      "cell_type": "code",
      "execution_count": null,
      "metadata": {
        "id": "xdhjMdgjv1Z-"
      },
      "outputs": [],
      "source": [
        "import numpy as np\n",
        "import pandas as pd\n",
        "import matplotlib.pyplot as plt\n",
        "import seaborn as sns"
      ]
    },
    {
      "cell_type": "code",
      "source": [
        "data = pd.read_csv('train.csv')\n",
        "test_data = pd.read_csv(\"test.csv\")"
      ],
      "metadata": {
        "id": "3pL4gpvGxFM9"
      },
      "execution_count": null,
      "outputs": []
    },
    {
      "cell_type": "markdown",
      "source": [
        "# realizamos preprocesado de los datos, antes de ejecutar los modelos\n",
        "\n",
        "\n"
      ],
      "metadata": {
        "id": "Y67MjHAIlM13"
      }
    },
    {
      "cell_type": "code",
      "source": [
        "feature = np.array(data.columns.to_list())"
      ],
      "metadata": {
        "id": "03BiUm3kmCec"
      },
      "execution_count": null,
      "outputs": []
    },
    {
      "cell_type": "code",
      "source": [
        "nan_val_col = feature[np.array(data.isnull().sum())>146]\n",
        "nan_val_col"
      ],
      "metadata": {
        "colab": {
          "base_uri": "https://localhost:8080/"
        },
        "id": "Zm4g-joNmHL2",
        "outputId": "f4a597ed-c417-40ec-f33f-6c91a5c72238"
      },
      "execution_count": null,
      "outputs": [
        {
          "output_type": "execute_result",
          "data": {
            "text/plain": [
              "array(['LotFrontage', 'Alley', 'FireplaceQu', 'PoolQC', 'Fence',\n",
              "       'MiscFeature'], dtype='<U13')"
            ]
          },
          "metadata": {},
          "execution_count": 5
        }
      ]
    },
    {
      "cell_type": "code",
      "source": [
        "data_temp = data.drop(nan_val_col, axis=1)\n",
        "test_data.drop(nan_val_col, axis=1, inplace=True)"
      ],
      "metadata": {
        "id": "tUTR4jpNmOCm"
      },
      "execution_count": null,
      "outputs": []
    },
    {
      "cell_type": "code",
      "source": [
        "cat_features = np.array([i for i in data_temp.columns.tolist() if data_temp[i].dtype == 'object'])\n",
        "cont_features = np.array([i for i in data_temp.columns.tolist() if data_temp[i].dtype != 'object'])"
      ],
      "metadata": {
        "id": "-qEl4kr5mbRP"
      },
      "execution_count": null,
      "outputs": []
    },
    {
      "cell_type": "code",
      "source": [
        "# Eliminando las características que sólo se centraban en una categoría.\n",
        "data_temp.drop(['SaleCondition', 'SaleType', 'PavedDrive', 'GarageCond', 'GarageQual', 'Functional', 'Electrical',\n",
        "                'CentralAir', 'Heating', 'BsmtFinType2', 'BsmtCond', 'ExterCond', 'RoofMatl', 'BldgType', 'Condition2',\n",
        "                'Condition1', 'LandSlope', 'Utilities', 'LandContour', 'Street'], axis=1, inplace=True)"
      ],
      "metadata": {
        "id": "3PW2hptHm1pJ"
      },
      "execution_count": null,
      "outputs": []
    },
    {
      "cell_type": "code",
      "source": [
        "test_data.drop(['SaleCondition', 'SaleType', 'PavedDrive', 'GarageCond', 'GarageQual', 'Functional', 'Electrical',\n",
        "                'CentralAir', 'Heating', 'BsmtFinType2', 'BsmtCond', 'ExterCond', 'RoofMatl', 'BldgType', 'Condition2',\n",
        "                'Condition1', 'LandSlope', 'Utilities', 'LandContour', 'Street'], axis=1, inplace=True)"
      ],
      "metadata": {
        "id": "hR-ITZo9nKKl"
      },
      "execution_count": null,
      "outputs": []
    },
    {
      "cell_type": "code",
      "source": [
        "#actualizandolas\n",
        "cat_features = np.array([i for i in data_temp.columns.tolist() if data_temp[i].dtype == 'object'])\n",
        "cont_features = np.array([i for i in data_temp.columns.tolist() if data_temp[i].dtype != 'object'])"
      ],
      "metadata": {
        "id": "IzAUYkhynbPd"
      },
      "execution_count": null,
      "outputs": []
    },
    {
      "cell_type": "markdown",
      "source": [
        "Analizemos los datos continuos\n"
      ],
      "metadata": {
        "id": "pooGDwLNosz8"
      }
    },
    {
      "cell_type": "code",
      "source": [
        "f,ax = plt.subplots(6,6, figsize=(30,30))\n",
        "k=0\n",
        "for i in range(6):\n",
        "    for j in range(6):\n",
        "        if k<35:\n",
        "            ax[i][j].hist(data_temp[cont_features[k]], bins=20, histtype='bar', color='LightGreen')\n",
        "            ax[i][j].hist(test_data[cont_features[k]], bins=20, histtype='step', color='Red')\n",
        "            ax[i][j].set_xlabel(cont_features[k])\n",
        "            ax[i][j].set_ylabel('Count')\n",
        "            k=k+1\n",
        "\n",
        "plt.show()"
      ],
      "metadata": {
        "id": "eiKc6JfWowue"
      },
      "execution_count": null,
      "outputs": []
    },
    {
      "cell_type": "markdown",
      "source": [],
      "metadata": {
        "id": "--VrW4e_pBOt"
      }
    },
    {
      "cell_type": "markdown",
      "source": [
        "Ahora eliminando categorias que no aportan nada util"
      ],
      "metadata": {
        "id": "f2Ewyqcrqij0"
      }
    },
    {
      "cell_type": "code",
      "source": [
        "data_temp.drop(['MiscVal', 'PoolArea', 'ScreenPorch', '3SsnPorch',\n",
        "                'EnclosedPorch', 'KitchenAbvGr', 'BsmtHalfBath','LowQualFinSF',\n",
        "                'BsmtFinSF2', 'MasVnrArea', 'BsmtFinSF1'], axis=1, inplace=True)"
      ],
      "metadata": {
        "id": "Z2J1SXDFqdnP"
      },
      "execution_count": null,
      "outputs": []
    },
    {
      "cell_type": "code",
      "source": [
        "test_data.drop(['MiscVal', 'PoolArea', 'ScreenPorch', '3SsnPorch',\n",
        "                'EnclosedPorch', 'KitchenAbvGr', 'BsmtHalfBath','LowQualFinSF',\n",
        "                'BsmtFinSF2', 'MasVnrArea', 'BsmtFinSF1'], axis=1, inplace=True)"
      ],
      "metadata": {
        "id": "cXXXJSm8qv2M"
      },
      "execution_count": null,
      "outputs": []
    },
    {
      "cell_type": "code",
      "source": [
        "#Haciendo actualizacion de las categorias\n",
        "cat_features = np.array([i for i in data_temp.columns.tolist() if data_temp[i].dtype == 'object'])\n",
        "cont_features = np.array([i for i in data_temp.columns.tolist() if data_temp[i].dtype != 'object'])"
      ],
      "metadata": {
        "id": "j1HQfWw5q2bl"
      },
      "execution_count": null,
      "outputs": []
    },
    {
      "cell_type": "markdown",
      "source": [
        "resolviendo valores atipicos"
      ],
      "metadata": {
        "id": "ygfFcx6grlGV"
      }
    },
    {
      "cell_type": "code",
      "source": [
        "# HAciendo uso del rango intercuartil\n",
        "def valorAtipico(data_temp, k=3):\n",
        "    q1, q3 = np.percentile(data_temp, [25, 75])\n",
        "    \n",
        "    iqr = q3 - q1\n",
        "    lower_bound = q1 - (k * iqr)\n",
        "    upper_bound = q3 + (k * iqr)\n",
        "    \n",
        "    valorAtipico = [index for index,x in enumerate(data_temp) if x < lower_bound or x > upper_bound]\n",
        "    \n",
        "    return valorAtipico"
      ],
      "metadata": {
        "id": "D7ScCkzzrmKc"
      },
      "execution_count": null,
      "outputs": []
    },
    {
      "cell_type": "markdown",
      "source": [
        "Numero de valores atipicos estimados"
      ],
      "metadata": {
        "id": "oDopaHI9sNiC"
      }
    },
    {
      "cell_type": "code",
      "source": [
        "raws = []\n",
        "for i in cont_features:\n",
        "    raws += valorAtipico(data_temp[i])\n",
        "\n",
        "\n",
        "len(set(raws))"
      ],
      "metadata": {
        "colab": {
          "base_uri": "https://localhost:8080/"
        },
        "id": "8v7N8rK3sKV8",
        "outputId": "fa17a714-9de2-4b98-8bae-01da4d8256e6"
      },
      "execution_count": null,
      "outputs": [
        {
          "output_type": "execute_result",
          "data": {
            "text/plain": [
              "67"
            ]
          },
          "metadata": {},
          "execution_count": 16
        }
      ]
    },
    {
      "cell_type": "code",
      "source": [
        "data_temp.drop(list(set(raws)), axis=0, inplace=True)"
      ],
      "metadata": {
        "id": "Zzzpmwd6sXwu"
      },
      "execution_count": null,
      "outputs": []
    },
    {
      "cell_type": "markdown",
      "source": [
        "Datos continuos vs Precio de venta"
      ],
      "metadata": {
        "id": "XWbehYESvE0r"
      }
    },
    {
      "cell_type": "code",
      "source": [
        "f,ax = plt.subplots(6,4, figsize=(28,42))\n",
        "k=0\n",
        "for i in range(6):\n",
        "    for j in range(4):\n",
        "        if k<22:\n",
        "            ax[i][j].scatter(x=cont_features[k], y='SalePrice', data=data_temp, s=1, c='red')\n",
        "            ax[i][j].set_xlabel(cont_features[k])\n",
        "            ax[i][j].set_ylabel('Sale Price')\n",
        "            k=k+1\n",
        "plt.show()"
      ],
      "metadata": {
        "id": "qN9_mlmjvDpN"
      },
      "execution_count": null,
      "outputs": []
    },
    {
      "cell_type": "markdown",
      "source": [
        "Ahora Separando datos dependientes e independientes"
      ],
      "metadata": {
        "id": "7-p_ahCevf8Z"
      }
    },
    {
      "cell_type": "code",
      "source": [
        "X = data_temp.iloc[:, :-1]\n",
        "y = data_temp['SalePrice']"
      ],
      "metadata": {
        "id": "QbY5TDRGvp6d"
      },
      "execution_count": null,
      "outputs": []
    },
    {
      "cell_type": "markdown",
      "source": [
        "Ahora haciendo la Codificación de los datos categoricos"
      ],
      "metadata": {
        "id": "zXvFFg_ev43c"
      }
    },
    {
      "cell_type": "code",
      "source": [
        "#actualizando categorias\n",
        "cat_features = np.array([i for i in data_temp.columns.tolist() if data_temp[i].dtype == 'object'])\n",
        "cont_features = np.array([i for i in data_temp.columns.tolist() if data_temp[i].dtype != 'object'])"
      ],
      "metadata": {
        "id": "9AvUBKfrv_dE"
      },
      "execution_count": null,
      "outputs": []
    },
    {
      "cell_type": "code",
      "source": [
        "# ahora codificando los datos categoricos\n",
        "from sklearn.preprocessing import LabelEncoder\n",
        "for i in cat_features:\n",
        "    # Training Data\n",
        "    enc = LabelEncoder()\n",
        "    X[i] =enc.fit_transform(X[i])\n",
        "    # Test Data\n",
        "    enc2 = LabelEncoder()\n",
        "    test_data[i] =enc2.fit_transform(test_data[i])"
      ],
      "metadata": {
        "id": "XFQOTwQcwaEK"
      },
      "execution_count": null,
      "outputs": []
    },
    {
      "cell_type": "code",
      "source": [
        "plt.figure(figsize=(20,20))\n",
        "sns.heatmap(X.corr(), cmap='YlGnBu')"
      ],
      "metadata": {
        "id": "45JaP2c5wl3g"
      },
      "execution_count": null,
      "outputs": []
    },
    {
      "cell_type": "markdown",
      "source": [
        "Resolviendo el problema de los Datos nulos"
      ],
      "metadata": {
        "id": "ajggWWxKulZ8"
      }
    },
    {
      "cell_type": "code",
      "source": [
        "from sklearn.impute import KNNImputer\n",
        "imputer = KNNImputer(n_neighbors=10)\n",
        "X = imputer.fit_transform(X)\n",
        "test_data = imputer.transform(test_data)"
      ],
      "metadata": {
        "id": "NKa_6qYOup2S"
      },
      "execution_count": null,
      "outputs": []
    },
    {
      "cell_type": "markdown",
      "source": [
        "Separando datos de entrenamiento y de test"
      ],
      "metadata": {
        "id": "icLciFbnj4VT"
      }
    },
    {
      "cell_type": "code",
      "source": [
        "from sklearn.model_selection import train_test_split\n",
        "xtrain, xtest, ytrain, ytest = train_test_split(X,y, test_size=0.2, random_state=1)"
      ],
      "metadata": {
        "id": "F9yEr7UOjJ1W"
      },
      "execution_count": null,
      "outputs": []
    },
    {
      "cell_type": "markdown",
      "source": [
        "Normalizando variables"
      ],
      "metadata": {
        "id": "CGLhxG1Ml5FK"
      }
    },
    {
      "cell_type": "code",
      "source": [
        "scaler = StandardScaler()\n",
        "\n",
        "xtrain = scaler.fit_transform(xtrain)\n",
        "xtest = scaler.transform(xtest)\n",
        "\n",
        "test_data1 = scaler.transform(test_data)"
      ],
      "metadata": {
        "id": "sluXhJf3l5pT"
      },
      "execution_count": null,
      "outputs": []
    },
    {
      "cell_type": "markdown",
      "source": [
        "reduccion de informacion irrelevante"
      ],
      "metadata": {
        "id": "akimLkKgodFz"
      }
    },
    {
      "cell_type": "code",
      "source": [
        "from sklearn.decomposition import PCA\n",
        "pca = PCA(n_components=10)\n",
        "\n",
        "xtrain = pca.fit_transform(xtrain)\n",
        "xtest = pca.transform(xtest)\n",
        "\n",
        "test_data1 = pca.transform(test_data1)"
      ],
      "metadata": {
        "id": "ghz3haQipAc3"
      },
      "execution_count": null,
      "outputs": []
    },
    {
      "cell_type": "markdown",
      "source": [
        "# Observemos un primer modelo\n",
        "\n"
      ],
      "metadata": {
        "id": "ikDjEy9IAKKv"
      }
    },
    {
      "cell_type": "code",
      "source": [
        "from sklearn.pipeline import Pipeline\n",
        "from sklearn.preprocessing import StandardScaler\n",
        "from sklearn.linear_model import LinearRegression\n",
        "from sklearn.model_selection import GridSearchCV"
      ],
      "metadata": {
        "id": "8mEpUCBZAcEA"
      },
      "execution_count": null,
      "outputs": []
    },
    {
      "cell_type": "code",
      "source": [
        "\n",
        "\n",
        "pipeline1 = Pipeline([\n",
        "    ('scaler', StandardScaler()),\n",
        "    ('linearregression', LinearRegression())\n",
        "])\n",
        "\n",
        "param_grid = {'linearregression__fit_intercept': [True, False],\n",
        "              'linearregression__copy_X': [True, False]\n",
        "              }\n",
        "\n",
        "grid_search1 = GridSearchCV(estimator=pipeline1, param_grid=param_grid, cv=12)\n",
        "grid_search1.fit(X, y)\n",
        "\n",
        "print(f\"Best Parameters: {grid_search1.best_params_}\\nBest Accuracy Score: {grid_search1.best_score_}\")"
      ],
      "metadata": {
        "colab": {
          "base_uri": "https://localhost:8080/"
        },
        "id": "Um7hG5nAa8LN",
        "outputId": "f075c35a-ac5a-4680-ee9a-9a8997a552f4"
      },
      "execution_count": null,
      "outputs": [
        {
          "output_type": "stream",
          "name": "stdout",
          "text": [
            "Best Parameters: {'linearregression__copy_X': True, 'linearregression__fit_intercept': True}\n",
            "Best Accuracy Score: 0.8859647902124576\n"
          ]
        }
      ]
    },
    {
      "cell_type": "code",
      "source": [
        "ypred1 = grid_search1.predict(xtest)\n",
        "\n",
        "sc1 = r2_score(ytest, ypred1)\n",
        "sc1"
      ],
      "metadata": {
        "id": "dKnClfp_ymRM"
      },
      "execution_count": null,
      "outputs": []
    },
    {
      "cell_type": "markdown",
      "source": [
        "Calcula el coeficiente de determinación R2 entre las etiquetas reales (ytest) y las predicciones del modelo (ypred1). El coeficiente R2 indica la proporción de la varianza en la variable dependiente (y) que se puede explicar por el modelo."
      ],
      "metadata": {
        "id": "7eZKV4NsynJz"
      }
    },
    {
      "cell_type": "markdown",
      "source": [
        "# **Arbol de decision**"
      ],
      "metadata": {
        "id": "aW_F3cBuy0QL"
      }
    },
    {
      "cell_type": "code",
      "source": [
        "from sklearn.tree import DecisionTreeRegressor\n",
        "\n",
        "pipeline2 = Pipeline([\n",
        "    ('clf2', DecisionTreeRegressor(random_state=42))\n",
        "])\n",
        "\n",
        "param_grid2 = {\n",
        "    'clf2__max_depth': [2, 3, 4, 5],\n",
        "    'clf2__min_samples_split': [2, 5, 10],\n",
        "    'clf2__min_samples_leaf': [1, 2, 4],\n",
        "    'clf2__max_leaf_nodes': [None, 5, 10, 20]\n",
        "}\n",
        "\n",
        "grid_search2 = GridSearchCV(pipeline2, param_grid2, cv=15)\n",
        "grid_search2.fit(xtrain, ytrain)\n",
        "\n",
        "print('Parameters : ', grid_search2.best_params_,'\\nAccuracy Score : ', grid_search2.best_score_)"
      ],
      "metadata": {
        "id": "vwyg6yyEy5q3"
      },
      "execution_count": null,
      "outputs": []
    },
    {
      "cell_type": "code",
      "source": [
        "ypred2 = grid_search2.predict(xtest)\n",
        "\n",
        "sc2 = r2_score(ytest, ypred2)\n",
        "sc2"
      ],
      "metadata": {
        "id": "2LeIW66gzJw0"
      },
      "execution_count": null,
      "outputs": []
    },
    {
      "cell_type": "markdown",
      "source": [
        "# **Random Forest (Bosque aleatorio)**"
      ],
      "metadata": {
        "id": "m_ErG8D_zZKg"
      }
    },
    {
      "cell_type": "code",
      "source": [
        "from sklearn.ensemble import RandomForestRegressor\n",
        "pipeline3 = Pipeline([\n",
        "    ('clf3', RandomForestRegressor())\n",
        "])\n",
        "\n",
        "param_grid3 = {\n",
        "    'clf3__n_estimators': [100, 200, 500],\n",
        "    'clf3__max_features': ['auto', 'sqrt'],\n",
        "    'clf3__max_depth': [5, 15],\n",
        "    'clf3__min_samples_split': [2, 5],\n",
        "    'clf3__min_samples_leaf': [1, 3],\n",
        "}\n",
        "\n",
        "grid_search3 = GridSearchCV(pipeline3, param_grid3, cv=7)\n",
        "grid_search3.fit(xtrain ,ytrain)\n",
        "\n",
        "print('Parameters : ', grid_search3.best_params_,'\\nAccuracy Score : ', grid_search3.best_score_)"
      ],
      "metadata": {
        "id": "gMA1ZKGZzlZb"
      },
      "execution_count": null,
      "outputs": []
    },
    {
      "cell_type": "code",
      "source": [
        "ypred3 = grid_search3.predict(xtest)\n",
        "\n",
        "sc3 = r2_score(ytest, ypred3)\n",
        "sc3"
      ],
      "metadata": {
        "id": "dh_rGe4Qzu_c"
      },
      "execution_count": null,
      "outputs": []
    },
    {
      "cell_type": "markdown",
      "source": [
        "# **Comparacion de modelos**"
      ],
      "metadata": {
        "id": "lpLpUxAjz1q-"
      }
    },
    {
      "cell_type": "code",
      "source": [
        "plt.plot(['Logisic\\nRegression','Decision\\nTree','Random\\nForest'],\n",
        "         [grid_search1.best_score_,\n",
        "          grid_search2.best_score_,\n",
        "          grid_search3.best_score_,],\n",
        "        color = 'Orange')\n",
        "\n",
        "plt.plot(['Logisic\\nRegression','Decision\\nTree','Random\\nForest'],\n",
        "         [sc1,sc2,sc3],\n",
        "        color = 'lightgreen')\n",
        "\n",
        "plt.ylim(0.7,1)\n",
        "plt.ylabel('Accuracy Score')\n",
        "plt.xlabel('Classifiers')\n",
        "plt.title('Model Comparison')\n",
        "plt.show()"
      ],
      "metadata": {
        "id": "gZZTRV1Az57Q"
      },
      "execution_count": null,
      "outputs": []
    },
    {
      "cell_type": "markdown",
      "source": [
        "Modelo final"
      ],
      "metadata": {
        "id": "JSnZ167w0BLr"
      }
    },
    {
      "cell_type": "code",
      "source": [
        "ypredf = grid_search3.predict(test_data1)"
      ],
      "metadata": {
        "id": "zGsTtcX40Djz"
      },
      "execution_count": null,
      "outputs": []
    }
  ]
}